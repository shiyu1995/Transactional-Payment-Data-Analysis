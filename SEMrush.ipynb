{
 "cells": [
  {
   "cell_type": "markdown",
   "metadata": {},
   "source": [
    "# Transactional Payment Data Analysis \n",
    "\n",
    "### Import Data and Check Basic Data Structure:"
   ]
  },
  {
   "cell_type": "code",
   "execution_count": 2,
   "metadata": {},
   "outputs": [],
   "source": [
    "import pandas as pd\n",
    "import numpy as np\n",
    "\n",
    "df = pd.read_csv('/Users/shiyuzhang/Desktop/synthetical_payments.csv')"
   ]
  },
  {
   "cell_type": "code",
   "execution_count": 3,
   "metadata": {},
   "outputs": [
    {
     "data": {
      "text/html": [
       "<div>\n",
       "<style scoped>\n",
       "    .dataframe tbody tr th:only-of-type {\n",
       "        vertical-align: middle;\n",
       "    }\n",
       "\n",
       "    .dataframe tbody tr th {\n",
       "        vertical-align: top;\n",
       "    }\n",
       "\n",
       "    .dataframe thead th {\n",
       "        text-align: right;\n",
       "    }\n",
       "</style>\n",
       "<table border=\"1\" class=\"dataframe\">\n",
       "  <thead>\n",
       "    <tr style=\"text-align: right;\">\n",
       "      <th></th>\n",
       "      <th>userId</th>\n",
       "      <th>billingCountry</th>\n",
       "      <th>transactionTime</th>\n",
       "      <th>product</th>\n",
       "      <th>price</th>\n",
       "      <th>amount</th>\n",
       "      <th>period</th>\n",
       "    </tr>\n",
       "  </thead>\n",
       "  <tbody>\n",
       "    <tr>\n",
       "      <th>0</th>\n",
       "      <td>41851</td>\n",
       "      <td>United States</td>\n",
       "      <td>1420334701</td>\n",
       "      <td>PRO</td>\n",
       "      <td>99.99</td>\n",
       "      <td>1007.90</td>\n",
       "      <td>12</td>\n",
       "    </tr>\n",
       "    <tr>\n",
       "      <th>1</th>\n",
       "      <td>13575</td>\n",
       "      <td>India</td>\n",
       "      <td>1420383152</td>\n",
       "      <td>PRO</td>\n",
       "      <td>99.99</td>\n",
       "      <td>99.99</td>\n",
       "      <td>1</td>\n",
       "    </tr>\n",
       "    <tr>\n",
       "      <th>2</th>\n",
       "      <td>73971</td>\n",
       "      <td>India</td>\n",
       "      <td>1420461487</td>\n",
       "      <td>PRO</td>\n",
       "      <td>99.99</td>\n",
       "      <td>99.99</td>\n",
       "      <td>1</td>\n",
       "    </tr>\n",
       "    <tr>\n",
       "      <th>3</th>\n",
       "      <td>80119</td>\n",
       "      <td>United States</td>\n",
       "      <td>1421010897</td>\n",
       "      <td>GURU</td>\n",
       "      <td>199.99</td>\n",
       "      <td>2015.90</td>\n",
       "      <td>12</td>\n",
       "    </tr>\n",
       "    <tr>\n",
       "      <th>4</th>\n",
       "      <td>90456</td>\n",
       "      <td>United States</td>\n",
       "      <td>1421020614</td>\n",
       "      <td>GURU</td>\n",
       "      <td>199.99</td>\n",
       "      <td>2015.90</td>\n",
       "      <td>12</td>\n",
       "    </tr>\n",
       "  </tbody>\n",
       "</table>\n",
       "</div>"
      ],
      "text/plain": [
       "   userId billingCountry  transactionTime product   price   amount  period\n",
       "0   41851  United States       1420334701     PRO   99.99  1007.90      12\n",
       "1   13575          India       1420383152     PRO   99.99    99.99       1\n",
       "2   73971          India       1420461487     PRO   99.99    99.99       1\n",
       "3   80119  United States       1421010897    GURU  199.99  2015.90      12\n",
       "4   90456  United States       1421020614    GURU  199.99  2015.90      12"
      ]
     },
     "execution_count": 3,
     "metadata": {},
     "output_type": "execute_result"
    }
   ],
   "source": [
    "df.head()"
   ]
  },
  {
   "cell_type": "markdown",
   "metadata": {},
   "source": [
    "### Check data type for all columns and see if there are any wrong data types :"
   ]
  },
  {
   "cell_type": "code",
   "execution_count": 8,
   "metadata": {},
   "outputs": [
    {
     "name": "stdout",
     "output_type": "stream",
     "text": [
      "<class 'pandas.core.frame.DataFrame'>\n",
      "RangeIndex: 38498 entries, 0 to 38497\n",
      "Data columns (total 7 columns):\n",
      "userId             38498 non-null int64\n",
      "billingCountry     38498 non-null object\n",
      "transactionTime    38498 non-null int64\n",
      "product            38498 non-null object\n",
      "price              38498 non-null float64\n",
      "amount             38498 non-null float64\n",
      "period             38498 non-null int64\n",
      "dtypes: float64(2), int64(3), object(2)\n",
      "memory usage: 2.1+ MB\n"
     ]
    }
   ],
   "source": [
    "df.info()"
   ]
  },
  {
   "cell_type": "code",
   "execution_count": 14,
   "metadata": {},
   "outputs": [
    {
     "data": {
      "text/plain": [
       "dtype('O')"
      ]
     },
     "execution_count": 14,
     "metadata": {},
     "output_type": "execute_result"
    }
   ],
   "source": [
    "# change user id data type from int to object for better analysis \n",
    "df['userId'] = df['userId'].astype(object)\n",
    "df.userId.dtypes"
   ]
  },
  {
   "cell_type": "markdown",
   "metadata": {},
   "source": [
    "### Check statistical summary of all the features including numeric and categorical variables:"
   ]
  },
  {
   "cell_type": "code",
   "execution_count": 15,
   "metadata": {},
   "outputs": [
    {
     "data": {
      "text/html": [
       "<div>\n",
       "<style scoped>\n",
       "    .dataframe tbody tr th:only-of-type {\n",
       "        vertical-align: middle;\n",
       "    }\n",
       "\n",
       "    .dataframe tbody tr th {\n",
       "        vertical-align: top;\n",
       "    }\n",
       "\n",
       "    .dataframe thead th {\n",
       "        text-align: right;\n",
       "    }\n",
       "</style>\n",
       "<table border=\"1\" class=\"dataframe\">\n",
       "  <thead>\n",
       "    <tr style=\"text-align: right;\">\n",
       "      <th></th>\n",
       "      <th>userId</th>\n",
       "      <th>billingCountry</th>\n",
       "      <th>transactionTime</th>\n",
       "      <th>product</th>\n",
       "      <th>price</th>\n",
       "      <th>amount</th>\n",
       "      <th>period</th>\n",
       "    </tr>\n",
       "  </thead>\n",
       "  <tbody>\n",
       "    <tr>\n",
       "      <th>count</th>\n",
       "      <td>38498.0</td>\n",
       "      <td>38498</td>\n",
       "      <td>3.849800e+04</td>\n",
       "      <td>38498</td>\n",
       "      <td>38498.000000</td>\n",
       "      <td>38498.000000</td>\n",
       "      <td>38498.000000</td>\n",
       "    </tr>\n",
       "    <tr>\n",
       "      <th>unique</th>\n",
       "      <td>22438.0</td>\n",
       "      <td>5</td>\n",
       "      <td>NaN</td>\n",
       "      <td>3</td>\n",
       "      <td>NaN</td>\n",
       "      <td>NaN</td>\n",
       "      <td>NaN</td>\n",
       "    </tr>\n",
       "    <tr>\n",
       "      <th>top</th>\n",
       "      <td>12403.0</td>\n",
       "      <td>United Kingdom</td>\n",
       "      <td>NaN</td>\n",
       "      <td>GURU</td>\n",
       "      <td>NaN</td>\n",
       "      <td>NaN</td>\n",
       "      <td>NaN</td>\n",
       "    </tr>\n",
       "    <tr>\n",
       "      <th>freq</th>\n",
       "      <td>17.0</td>\n",
       "      <td>9649</td>\n",
       "      <td>NaN</td>\n",
       "      <td>19576</td>\n",
       "      <td>NaN</td>\n",
       "      <td>NaN</td>\n",
       "      <td>NaN</td>\n",
       "    </tr>\n",
       "    <tr>\n",
       "      <th>mean</th>\n",
       "      <td>NaN</td>\n",
       "      <td>NaN</td>\n",
       "      <td>1.487614e+09</td>\n",
       "      <td>NaN</td>\n",
       "      <td>171.435270</td>\n",
       "      <td>411.884691</td>\n",
       "      <td>2.788379</td>\n",
       "    </tr>\n",
       "    <tr>\n",
       "      <th>std</th>\n",
       "      <td>NaN</td>\n",
       "      <td>NaN</td>\n",
       "      <td>2.001986e+07</td>\n",
       "      <td>NaN</td>\n",
       "      <td>78.482071</td>\n",
       "      <td>681.548175</td>\n",
       "      <td>4.058854</td>\n",
       "    </tr>\n",
       "    <tr>\n",
       "      <th>min</th>\n",
       "      <td>NaN</td>\n",
       "      <td>NaN</td>\n",
       "      <td>1.420335e+09</td>\n",
       "      <td>NaN</td>\n",
       "      <td>99.990000</td>\n",
       "      <td>49.990000</td>\n",
       "      <td>1.000000</td>\n",
       "    </tr>\n",
       "    <tr>\n",
       "      <th>25%</th>\n",
       "      <td>NaN</td>\n",
       "      <td>NaN</td>\n",
       "      <td>1.475015e+09</td>\n",
       "      <td>NaN</td>\n",
       "      <td>99.990000</td>\n",
       "      <td>99.990000</td>\n",
       "      <td>1.000000</td>\n",
       "    </tr>\n",
       "    <tr>\n",
       "      <th>50%</th>\n",
       "      <td>NaN</td>\n",
       "      <td>NaN</td>\n",
       "      <td>1.491777e+09</td>\n",
       "      <td>NaN</td>\n",
       "      <td>199.990000</td>\n",
       "      <td>199.990000</td>\n",
       "      <td>1.000000</td>\n",
       "    </tr>\n",
       "    <tr>\n",
       "      <th>75%</th>\n",
       "      <td>NaN</td>\n",
       "      <td>NaN</td>\n",
       "      <td>1.503919e+09</td>\n",
       "      <td>NaN</td>\n",
       "      <td>199.990000</td>\n",
       "      <td>199.990000</td>\n",
       "      <td>1.000000</td>\n",
       "    </tr>\n",
       "    <tr>\n",
       "      <th>max</th>\n",
       "      <td>NaN</td>\n",
       "      <td>NaN</td>\n",
       "      <td>1.514768e+09</td>\n",
       "      <td>NaN</td>\n",
       "      <td>399.990000</td>\n",
       "      <td>30000.000000</td>\n",
       "      <td>12.000000</td>\n",
       "    </tr>\n",
       "  </tbody>\n",
       "</table>\n",
       "</div>"
      ],
      "text/plain": [
       "         userId  billingCountry  transactionTime product         price  \\\n",
       "count   38498.0           38498     3.849800e+04   38498  38498.000000   \n",
       "unique  22438.0               5              NaN       3           NaN   \n",
       "top     12403.0  United Kingdom              NaN    GURU           NaN   \n",
       "freq       17.0            9649              NaN   19576           NaN   \n",
       "mean        NaN             NaN     1.487614e+09     NaN    171.435270   \n",
       "std         NaN             NaN     2.001986e+07     NaN     78.482071   \n",
       "min         NaN             NaN     1.420335e+09     NaN     99.990000   \n",
       "25%         NaN             NaN     1.475015e+09     NaN     99.990000   \n",
       "50%         NaN             NaN     1.491777e+09     NaN    199.990000   \n",
       "75%         NaN             NaN     1.503919e+09     NaN    199.990000   \n",
       "max         NaN             NaN     1.514768e+09     NaN    399.990000   \n",
       "\n",
       "              amount        period  \n",
       "count   38498.000000  38498.000000  \n",
       "unique           NaN           NaN  \n",
       "top              NaN           NaN  \n",
       "freq             NaN           NaN  \n",
       "mean      411.884691      2.788379  \n",
       "std       681.548175      4.058854  \n",
       "min        49.990000      1.000000  \n",
       "25%        99.990000      1.000000  \n",
       "50%       199.990000      1.000000  \n",
       "75%       199.990000      1.000000  \n",
       "max     30000.000000     12.000000  "
      ]
     },
     "execution_count": 15,
     "metadata": {},
     "output_type": "execute_result"
    }
   ],
   "source": [
    "df.describe(include = 'all')"
   ]
  },
  {
   "cell_type": "markdown",
   "metadata": {},
   "source": [
    "### Check missing values :"
   ]
  },
  {
   "cell_type": "code",
   "execution_count": 18,
   "metadata": {},
   "outputs": [
    {
     "data": {
      "text/plain": [
       "userId             0\n",
       "billingCountry     0\n",
       "transactionTime    0\n",
       "product            0\n",
       "price              0\n",
       "amount             0\n",
       "period             0\n",
       "dtype: int64"
      ]
     },
     "execution_count": 18,
     "metadata": {},
     "output_type": "execute_result"
    }
   ],
   "source": [
    "df.isnull().sum()"
   ]
  },
  {
   "cell_type": "markdown",
   "metadata": {},
   "source": [
    "#### It's great that there is no missing values in this dataset, however, if there is, I would choose to replace the missing value \n",
    "#### either with mean/ median / other more complexed model if it's numeric; with most frequency if it's categorical variable"
   ]
  },
  {
   "cell_type": "markdown",
   "metadata": {},
   "source": [
    "### Check outliers:"
   ]
  },
  {
   "cell_type": "markdown",
   "metadata": {},
   "source": [
    "### I choose to visualize the dataset using box plot to detect outliers "
   ]
  },
  {
   "cell_type": "code",
   "execution_count": 11,
   "metadata": {},
   "outputs": [
    {
     "data": {
      "image/png": "[encoded data removed]",
      "text/plain": [
       "<Figure size 432x288 with 1 Axes>"
      ]
     },
     "metadata": {},
     "output_type": "display_data"
    }
   ],
   "source": [
    "import seaborn as sns\n",
    "import matplotlib.pyplot as plt\n",
    "\n",
    "sns.set(style=\"whitegrid\")\n",
    "box_1 = sns.boxplot(x=df['billingCountry'],y=df['amount'])\n",
    "\n",
    "# From the plot we can see that there are some significant outliers in the 'amount' column from original dataset"
   ]
  },
  {
   "cell_type": "markdown",
   "metadata": {},
   "source": [
    "### Remove outlier and create a new dataframe called df_new:"
   ]
  },
  {
   "cell_type": "code",
   "execution_count": 22,
   "metadata": {},
   "outputs": [],
   "source": [
    "df_new = df[df['amount']<1000]"
   ]
  },
  {
   "cell_type": "code",
   "execution_count": 28,
   "metadata": {
    "scrolled": true
   },
   "outputs": [
    {
     "data": {
      "image/png": "[encoded data removed]",
      "text/plain": [
       "<Figure size 720x360 with 1 Axes>"
      ]
     },
     "metadata": {},
     "output_type": "display_data"
    }
   ],
   "source": [
    "plt.figure(figsize=(10,5))\n",
    "box_2 = sns.boxplot(x=df_new['billingCountry'],y=df['amount'])"
   ]
  },
  {
   "cell_type": "code",
   "execution_count": null,
   "metadata": {},
   "outputs": [],
   "source": []
  },
  {
   "cell_type": "code",
   "execution_count": null,
   "metadata": {},
   "outputs": [],
   "source": []
  }
 ],
 "metadata": {
  "kernelspec": {
   "display_name": "Python 3",
   "language": "python",
   "name": "python3"
  },
  "language_info": {
   "codemirror_mode": {
    "name": "ipython",
    "version": 3
   },
   "file_extension": ".py",
   "mimetype": "text/x-python",
   "name": "python",
   "nbconvert_exporter": "python",
   "pygments_lexer": "ipython3",
   "version": "3.7.1"
  }
 },
 "nbformat": 4,
 "nbformat_minor": 2
}
